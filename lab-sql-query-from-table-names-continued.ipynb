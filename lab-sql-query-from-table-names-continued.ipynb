{
 "cells": [
  {
   "cell_type": "markdown",
   "id": "7d930c89-4954-4e39-be5a-601c1dd89512",
   "metadata": {
    "id": "7d930c89-4954-4e39-be5a-601c1dd89512"
   },
   "source": [
    "# SQL query from table names - Continued"
   ]
  },
  {
   "cell_type": "code",
   "execution_count": 1,
   "id": "a03f026a",
   "metadata": {
    "id": "a03f026a"
   },
   "outputs": [],
   "source": [
    "from openai import OpenAI\n",
    "import os\n",
    "from dotenv import load_dotenv, find_dotenv\n",
    "_ = load_dotenv(find_dotenv())\n",
    "\n",
    "OPENAI_API_KEY  = os.getenv('OPENAI_API_KEY')"
   ]
  },
  {
   "cell_type": "markdown",
   "id": "53a05b80-88fd-42b2-ba89-763074ae74e9",
   "metadata": {
    "id": "53a05b80-88fd-42b2-ba89-763074ae74e9"
   },
   "source": [
    "## The old Prompt"
   ]
  },
  {
   "cell_type": "code",
   "execution_count": 11,
   "id": "922f8d24",
   "metadata": {
    "id": "922f8d24"
   },
   "outputs": [],
   "source": [
    "#The old prompt\n",
    "old_context = [ {'role':'system', 'content':\"\"\"\n",
    "you are a bot to assist in create SQL commands, all your answers should start with \\\n",
    "this is your SQL, and after that an SQL that can do what the user request. \\\n",
    "Your Database is composed by a SQL database with some tables. \\\n",
    "Try to maintain the SQL order simple.\n",
    "Put the SQL command in white letters with a black background, and just after \\\n",
    "a simple and concise text explaining how it works.\n",
    "If the user ask for something that can not be solved with an SQL Order \\\n",
    "just answer something nice and simple, maximum 10 words, asking him for something that \\\n",
    "can be solved with SQL.\n",
    "\"\"\"} ]\n",
    "\n",
    "old_context.append( {'role':'system', 'content':\"\"\"\n",
    "first table:\n",
    "{\n",
    "  \"tableName\": \"employees\",\n",
    "  \"fields\": [\n",
    "    {\n",
    "      \"nombre\": \"employee_id\",\n",
    "      \"tipo\": \"int\"\n",
    "    },\n",
    "    {\n",
    "      \"nombre\": \"employee_name\",\n",
    "      \"tipo\": \"varchar\"\n",
    "    }\n",
    "  ]\n",
    "}\n",
    "\"\"\"\n",
    "})\n",
    "\n",
    "old_context.append( {'role':'system', 'content':\"\"\"\n",
    "second table:\n",
    "{\n",
    "  \"tableName\": \"employee_productivity\",\n",
    "  \"fields\": [\n",
    "    {\n",
    "      \"nombre\": \"employee_id\",\n",
    "      \"type\": \"int\"\n",
    "    },\n",
    "    {\n",
    "      \"name\": \"productivity\",\n",
    "      \"type\": \"float\"\n",
    "    },\n",
    "    {\n",
    "      \"name\": \"ftpr\",\n",
    "      \"type\": \"float\"\n",
    "    }\n",
    "  ]\n",
    "}\n",
    "\"\"\"\n",
    "})\n",
    "\n",
    "old_context.append( {'role':'system', 'content':\"\"\"\n",
    "third table:\n",
    "{\n",
    "  \"tablename\": \"customer_satisfaction\",\n",
    "  \"fields\": [\n",
    "    {\n",
    "      \"name\": \"employee_id\",\n",
    "      \"type\": \"int\"\n",
    "    },\n",
    "    {\n",
    "      \"name\": \"css\",\n",
    "      \"type\": \"float\"\n",
    "    }\n",
    "  ]\n",
    "}\n",
    "\"\"\"\n",
    "})"
   ]
  },
  {
   "cell_type": "markdown",
   "id": "377acaae-7dd0-4d13-bc68-9e33741c231c",
   "metadata": {
    "id": "377acaae-7dd0-4d13-bc68-9e33741c231c"
   },
   "source": [
    "## New Prompt.\n",
    "We are going to improve it following the instructions of a Paper from the Ohaio University: [How to Prompt LLMs for Text-to-SQL: A Study in Zero-shot, Single-domain, and Cross-domain Settings](https://arxiv.org/abs/2305.11853). I recommend you read that paper.\n",
    "\n",
    "For each table, we will define the structure using the same syntax as in a SQL create table command, and add the sample rows of the content.\n",
    "\n",
    "Finally, at the end of the prompt, we'll include some example queries with the SQL that the model should generate. This technique is called Few-Shot Samples, in which we provide the prompt with some examples to assist it in generating the correct SQL.\n"
   ]
  },
  {
   "cell_type": "code",
   "execution_count": 12,
   "id": "5334f942",
   "metadata": {
    "id": "5334f942"
   },
   "outputs": [],
   "source": [
    "context = [ {'role':'system', 'content':\"\"\"\n",
    "    create table employees (\n",
    "    ID_Usr INT PRIMARY KEY,\n",
    "    emp_name VARCHAR(100),\n",
    "    department VARCHAR(50),\n",
    "    project VARCHAR(100));\n",
    "    /* 3 example rows\n",
    "    select * from employees limit 3\n",
    "    ID_Usr    emp_name       department      project\n",
    "    1344      John Smith     IT              Cloud Migration\n",
    "    1265      Sarah Johnson  Finance         Budget Analysis\n",
    "    1289      David Lee      HR              Recruitment Drive\n",
    "    */\n",
    "\n",
    "    create table employee_productivity (\n",
    "    ID_Usr INT,\n",
    "    emp_name VARCHAR(100),\n",
    "    project VARCHAR(100),\n",
    "    productivity FLOAT,\n",
    "    ftpr FLOAT,\n",
    "    foreign key (ID_Usr) references employees(ID_Usr));\n",
    "\n",
    "    /* 3 example rows\n",
    "    select * from employee_productivity limit 3\n",
    "    ID_Usr    emp_name       project             productivity   ftpr\n",
    "    1344      John Smith     Cloud Migration     88.5            100\n",
    "    1265      Sarah Johnson  Budget Analysis     92.0             98\n",
    "    1289      David Lee      Recruitment Drive   79.4             72\n",
    "    */\n",
    "\n",
    "    create table customer_satisfaction (\n",
    "    ID_Usr INT,\n",
    "    css FLOAT,\n",
    "    foreign key (ID_Usr) references employees(ID_Usr));\n",
    "\n",
    "    /* 3 example rows\n",
    "    select * from customer_satisfaction limit 3\n",
    "    ID_Usr    css\n",
    "    1344      4.5\n",
    "    1265      4.8\n",
    "    1289      4.1\n",
    "    */\n",
    "\n",
    "\"\"\"} ]\n",
    "\n"
   ]
  },
  {
   "cell_type": "code",
   "execution_count": 13,
   "id": "330e69b0-3f5f-4bb2-8185-aedded2bb993",
   "metadata": {
    "id": "330e69b0-3f5f-4bb2-8185-aedded2bb993"
   },
   "outputs": [],
   "source": [
    "#FEW SHOT SAMPLES\n",
    "context.append( {'role':'system', 'content':\"\"\"\n",
    " -- Maintain the SQL order simple and efficient as you can, using valid SQL Lite, answer the following questions for the table provided above.\n",
    "Question 1: query to fetch the top 3 employees with the highest productivity along with their projects\n",
    "select \n",
    "    ep.ID_Usr,\n",
    "    ep.emp_name,\n",
    "    ep.project,\n",
    "    ep.productivity\n",
    "from employee_productivity ep\n",
    "order by ep.productivity desc\n",
    "limit 3;\n",
    "\n",
    "Question 2: write a query to get employees having productivity between 70 to 95 and having ftpr 100 and having css more than 4\n",
    "\n",
    "select \n",
    "    e.ID_Usr,\n",
    "    e.emp_name,\n",
    "    e.department,\n",
    "    ep.project,\n",
    "    ep.productivity,\n",
    "    ep.ftpr,\n",
    "    cs.css\n",
    "from employees e\n",
    "join employee_productivity ep on e.ID_Usr = ep.ID_Usr\n",
    "join customer_satisfaction cs on e.ID_Usr = cs.ID_Usr\n",
    "where ep.productivity between 70 and 95\n",
    "  and ep.ftpr = 100\n",
    "  and cs.css > 4;\n",
    "\n",
    "\n",
    "\"\"\"\n",
    "})"
   ]
  },
  {
   "cell_type": "code",
   "execution_count": 14,
   "id": "b90f417a",
   "metadata": {
    "id": "b90f417a"
   },
   "outputs": [],
   "source": [
    "#Functio to call the model.\n",
    "def return_CCRMSQL(user_message, context):\n",
    "    client = OpenAI(\n",
    "    # This is the default and can be omitted\n",
    "    api_key=OPENAI_API_KEY,\n",
    ")\n",
    "\n",
    "    newcontext = context.copy()\n",
    "    newcontext.append({'role':'user', 'content':\"question: \" + user_message})\n",
    "\n",
    "    response = client.chat.completions.create(\n",
    "            model=\"gpt-3.5-turbo\",\n",
    "            messages=newcontext,\n",
    "            temperature=0,\n",
    "        )\n",
    "\n",
    "    return (response.choices[0].message.content)"
   ]
  },
  {
   "cell_type": "markdown",
   "id": "9e0a4c11-dfe1-46fe-ac2b-3ff825f9749c",
   "metadata": {
    "id": "9e0a4c11-dfe1-46fe-ac2b-3ff825f9749c"
   },
   "source": [
    "## NL2SQL Samples\n",
    "We're going to review some examples generated with the old prompt and others with the new prompt."
   ]
  },
  {
   "cell_type": "code",
   "execution_count": null,
   "id": "59e8202c-ce34-487e-9037-c65a263423ed",
   "metadata": {
    "colab": {
     "base_uri": "https://localhost:8080/"
    },
    "id": "59e8202c-ce34-487e-9037-c65a263423ed",
    "outputId": "f7a97b9f-45d7-4f78-8979-a796c5bc42fb"
   },
   "outputs": [
    {
     "name": "stdout",
     "output_type": "stream",
     "text": [
      "```sql\n",
      "select \n",
      "    e.ID_Usr,\n",
      "    e.emp_name,\n",
      "    e.department,\n",
      "    ep.project,\n",
      "    ep.productivity,\n",
      "    ep.ftpr,\n",
      "    cs.css,\n",
      "    ep.productivity + ep.ftpr + cs.css as final_score\n",
      "from employees e\n",
      "join employee_productivity ep on e.ID_Usr = ep.ID_Usr\n",
      "join customer_satisfaction cs on e.ID_Usr = cs.ID_Usr\n",
      "order by final_score desc;\n",
      "```\n"
     ]
    }
   ],
   "source": [
    "# example 1\n",
    "#new\n",
    "context_user = context.copy()\n",
    "print(return_CCRMSQL(\"\"\" Calculate a final score which is the sum of productivity, ftpr and css. Create a column called final score and store the sum from highest to lowest. Dont use alter or update. Do it in query\"\"\", context_user))"
   ]
  },
  {
   "cell_type": "code",
   "execution_count": 23,
   "id": "9c4766b1-48a9-456e-bc6c-4b6f41909aa4",
   "metadata": {
    "colab": {
     "base_uri": "https://localhost:8080/"
    },
    "id": "9c4766b1-48a9-456e-bc6c-4b6f41909aa4",
    "outputId": "029844da-5f1f-4f65-9adb-4d9c1cafacea"
   },
   "outputs": [
    {
     "name": "stdout",
     "output_type": "stream",
     "text": [
      "This is your SQL:\n",
      "```sql\n",
      "SELECT employee_id, (productivity + ftpr + css) AS final_score\n",
      "FROM employee_productivity\n",
      "JOIN customer_satisfaction USING (employee_id)\n",
      "ORDER BY final_score DESC;\n",
      "```\n",
      "\n",
      "This query calculates the final score by summing the productivity, ftpr, and css values for each employee, then orders the results from highest to lowest final score.\n"
     ]
    }
   ],
   "source": [
    "#old\n",
    "old_context_user = old_context.copy()\n",
    "print(return_CCRMSQL(\"Calculate a final score which is the sum of productivity, ftpr and css. Create a column called final score and store the sum from highest to lowest. Dont use alter or update. Do it in query\", old_context_user))"
   ]
  },
  {
   "cell_type": "code",
   "execution_count": 24,
   "id": "38d8d370-0524-4a28-bd54-5e5cddb08e2c",
   "metadata": {
    "colab": {
     "base_uri": "https://localhost:8080/"
    },
    "id": "38d8d370-0524-4a28-bd54-5e5cddb08e2c",
    "outputId": "2934cdec-bea0-44db-b047-33e70dcf8ae8"
   },
   "outputs": [
    {
     "name": "stdout",
     "output_type": "stream",
     "text": [
      "To achieve this, we can use a subquery to calculate the total productivity for employees with more than 3 projects, then calculate the average of ftpr and css for those employees, and finally sum all these values to create the final score. Here's the SQL query for this:\n",
      "\n",
      "```sql\n",
      "WITH EmployeeProjects AS (\n",
      "    SELECT \n",
      "        e.ID_Usr,\n",
      "        COUNT(ep.project) AS num_projects,\n",
      "        SUM(ep.productivity) AS total_productivity\n",
      "    FROM employees e\n",
      "    JOIN employee_productivity ep ON e.ID_Usr = ep.ID_Usr\n",
      "    GROUP BY e.ID_Usr\n",
      "    HAVING num_projects > 3\n",
      ")\n",
      "\n",
      "SELECT \n",
      "    e.ID_Usr,\n",
      "    e.emp_name,\n",
      "    SUM(ep.productivity) + AVG(ep.ftpr) + AVG(cs.css) AS final_score\n",
      "FROM employees e\n",
      "JOIN employee_productivity ep ON e.ID_Usr = ep.ID_Usr\n",
      "JOIN customer_satisfaction cs ON e.ID_Usr = cs.ID_Usr\n",
      "JOIN EmployeeProjects epj ON e.ID_Usr = epj.ID_Usr\n",
      "GROUP BY e.ID_Usr\n",
      "```\n",
      "\n",
      "In this query:\n",
      "1. The `EmployeeProjects` common table expression (CTE) calculates the total productivity for employees with more than 3 projects.\n",
      "2. The main query then joins the `EmployeeProjects` CTE with the `employees`, `employee_productivity`, and `customer_satisfaction` tables to calculate the final score by summing the total productivity and averaging the ftpr and css values.\n",
      "3. The final result includes the employee ID, name, and the calculated final score.\n",
      "\n",
      "This query will provide the final score for employees who have more than 3 projects by summing their total productivity and averaging their ftpr and css values.\n"
     ]
    }
   ],
   "source": [
    "#new\n",
    "print(return_CCRMSQL(\"Get the employees having more than 3 projects and calculate their final score by summing all their productivity , taking average of ftpr and css to create one final score\", context_user))"
   ]
  },
  {
   "cell_type": "code",
   "execution_count": 21,
   "id": "5aa318d4-dd9f-41db-8ff4-c1d87220f766",
   "metadata": {
    "colab": {
     "base_uri": "https://localhost:8080/"
    },
    "id": "5aa318d4-dd9f-41db-8ff4-c1d87220f766",
    "outputId": "605724a1-0d89-4ed9-d8ec-1aeeae6dc287"
   },
   "outputs": [
    {
     "name": "stdout",
     "output_type": "stream",
     "text": [
      "This is your SQL:\n",
      "```sql\n",
      "SELECT e.employee_id, e.employee_name, SUM(ep.productivity) + AVG(ep.ftpr) + AVG(cs.css) AS final_score\n",
      "FROM employees e\n",
      "JOIN employee_productivity ep ON e.employee_id = ep.employee_id\n",
      "JOIN customer_satisfaction cs ON e.employee_id = cs.employee_id\n",
      "GROUP BY e.employee_id, e.employee_name\n",
      "HAVING COUNT(ep.employee_id) > 3;\n",
      "```\n",
      "\n",
      "This SQL query retrieves the employees who have more than 3 projects by joining the employees table with the employee_productivity and customer_satisfaction tables. It then calculates the final score by summing all their productivity, averaging the ftpr, and averaging the css.\n"
     ]
    }
   ],
   "source": [
    "#old\n",
    "print(return_CCRMSQL(\"Get the employees having more than 3 projects and calculate their final score by summing all their productivity , taking average of ftpr and css to create one final score\", old_context_user))"
   ]
  },
  {
   "cell_type": "markdown",
   "id": "0f31968e-74ad-4ae2-9537-b3d550b1be47",
   "metadata": {
    "id": "0f31968e-74ad-4ae2-9537-b3d550b1be47"
   },
   "source": [
    "# Exercise\n",
    " - Complete the prompts similar to what we did in class. \n",
    "     - Try at least 3 versions\n",
    "     - Be creative\n",
    " - Write a one page report summarizing your findings.\n",
    "     - Were there variations that didn't work well? i.e., where GPT either hallucinated or wrong.\n",
    "     - What did you learn?"
   ]
  },
  {
   "cell_type": "markdown",
   "id": "0026f6fd",
   "metadata": {},
   "source": [
    "- Case where it didnot work well: Yes there was a case where i gave the prompt and the GPT altered and updated the values on the table (example 1)\n",
    "- so i had to extend the prompt\n",
    "\n",
    "what did i learn:\n",
    "- making the sql query GPT to stay on topic and provide queries related to the table data.\n",
    "- cpt 3.5 able to perform complex sql tasks like partioning queries, sub queries\n",
    "- difference between prompt style provides efficient optimized queries (new style gives better queries)"
   ]
  }
 ],
 "metadata": {
  "colab": {
   "include_colab_link": true,
   "provenance": []
  },
  "kernelspec": {
   "display_name": "ironhack",
   "language": "python",
   "name": "python3"
  },
  "language_info": {
   "codemirror_mode": {
    "name": "ipython",
    "version": 3
   },
   "file_extension": ".py",
   "mimetype": "text/x-python",
   "name": "python",
   "nbconvert_exporter": "python",
   "pygments_lexer": "ipython3",
   "version": "3.10.18"
  }
 },
 "nbformat": 4,
 "nbformat_minor": 5
}
